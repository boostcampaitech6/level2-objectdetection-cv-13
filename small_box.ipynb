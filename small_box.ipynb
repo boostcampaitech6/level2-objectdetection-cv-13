{
 "cells": [
  {
   "cell_type": "code",
   "execution_count": 2,
   "metadata": {},
   "outputs": [],
   "source": [
    "import json\n",
    "import numpy as np\n",
    "import os\n",
    "import pandas as pd"
   ]
  },
  {
   "cell_type": "code",
   "execution_count": 14,
   "metadata": {},
   "outputs": [],
   "source": [
    "annotation = \"./dataset/train.json\"\n",
    "\n",
    "with open(annotation) as f: datas = json.load(f)"
   ]
  },
  {
   "cell_type": "code",
   "execution_count": 29,
   "metadata": {},
   "outputs": [
    {
     "data": {
      "text/plain": [
       "{'id': 0, 'width': 1024, 'height': 1024, 'file_name': 'train/0000.jpg'}"
      ]
     },
     "execution_count": 29,
     "metadata": {},
     "output_type": "execute_result"
    }
   ],
   "source": [
    "train_data = {'categories':datas['categories'], 'images':[], 'annotations':[]}\n",
    "datas['images'][0]"
   ]
  },
  {
   "cell_type": "code",
   "execution_count": 30,
   "metadata": {},
   "outputs": [
    {
     "name": "stdout",
     "output_type": "stream",
     "text": [
      "6457\n",
      "6457\n",
      "1759\n",
      "1759\n"
     ]
    }
   ],
   "source": [
    "\n",
    "img = []\n",
    "annotation = []\n",
    "cnt = 0\n",
    "for anno in datas['annotations']:\n",
    "    if anno['area'] <= 9216:\n",
    "        cnt += 1\n",
    "        train_data['annotations'].append(anno)\n",
    "        img.append(anno['image_id'])\n",
    "print(cnt)\n",
    "print(len(train_data['annotations']))\n",
    "img = set(img)\n",
    "for tmp in datas['images']:\n",
    "    if tmp['id'] in img:\n",
    "        train_data['images'].append(tmp)\n",
    "print(len(img))\n",
    "print(len(train_data['images']))\n",
    "\n",
    "    "
   ]
  },
  {
   "cell_type": "code",
   "execution_count": 32,
   "metadata": {},
   "outputs": [
    {
     "name": "stdout",
     "output_type": "stream",
     "text": [
      "[{'id': 0, 'name': 'General trash', 'supercategory': 'General trash'}, {'id': 1, 'name': 'Paper', 'supercategory': 'Paper'}, {'id': 2, 'name': 'Paper pack', 'supercategory': 'Paper pack'}, {'id': 3, 'name': 'Metal', 'supercategory': 'Metal'}, {'id': 4, 'name': 'Glass', 'supercategory': 'Glass'}, {'id': 5, 'name': 'Plastic', 'supercategory': 'Plastic'}, {'id': 6, 'name': 'Styrofoam', 'supercategory': 'Styrofoam'}, {'id': 7, 'name': 'Plastic bag', 'supercategory': 'Plastic bag'}, {'id': 8, 'name': 'Battery', 'supercategory': 'Battery'}, {'id': 9, 'name': 'Clothing', 'supercategory': 'Clothing'}]\n"
     ]
    }
   ],
   "source": [
    "print(train_data['categories'])"
   ]
  },
  {
   "cell_type": "code",
   "execution_count": 33,
   "metadata": {},
   "outputs": [],
   "source": [
    "json_folder_path = f\"./dataset\"\n",
    "if not os.path.exists(json_folder_path):\n",
    "    os.makedirs(json_folder_path)\n",
    "\n",
    "train_json_path = os.path.join(json_folder_path, 'small_train.json')\n",
    "with open(train_json_path, 'w') as train_file:\n",
    "    json.dump(train_data, train_file, indent=4)"
   ]
  },
  {
   "cell_type": "code",
   "execution_count": null,
   "metadata": {},
   "outputs": [],
   "source": []
  }
 ],
 "metadata": {
  "kernelspec": {
   "display_name": "image",
   "language": "python",
   "name": "python3"
  },
  "language_info": {
   "codemirror_mode": {
    "name": "ipython",
    "version": 3
   },
   "file_extension": ".py",
   "mimetype": "text/x-python",
   "name": "python",
   "nbconvert_exporter": "python",
   "pygments_lexer": "ipython3",
   "version": "3.10.0"
  }
 },
 "nbformat": 4,
 "nbformat_minor": 2
}
