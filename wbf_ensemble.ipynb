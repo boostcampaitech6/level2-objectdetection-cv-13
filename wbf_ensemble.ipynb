{
 "cells": [
  {
   "cell_type": "code",
   "execution_count": 9,
   "id": "6ebe6ecf-3b45-4c72-8035-1df682406322",
   "metadata": {},
   "outputs": [
    {
     "name": "stdout",
     "output_type": "stream",
     "text": [
      "Requirement already satisfied: ensemble_boxes in /opt/conda/lib/python3.10/site-packages (1.0.9)\n",
      "Requirement already satisfied: numpy in /opt/conda/lib/python3.10/site-packages (from ensemble_boxes) (1.22.4)\n",
      "Requirement already satisfied: pandas in /opt/conda/lib/python3.10/site-packages (from ensemble_boxes) (1.3.5)\n",
      "Requirement already satisfied: numba in /opt/conda/lib/python3.10/site-packages (from ensemble_boxes) (0.58.1)\n",
      "Requirement already satisfied: llvmlite<0.42,>=0.41.0dev0 in /opt/conda/lib/python3.10/site-packages (from numba->ensemble_boxes) (0.41.1)\n",
      "Requirement already satisfied: python-dateutil>=2.7.3 in /opt/conda/lib/python3.10/site-packages (from pandas->ensemble_boxes) (2.8.2)\n",
      "Requirement already satisfied: pytz>=2017.3 in /opt/conda/lib/python3.10/site-packages (from pandas->ensemble_boxes) (2023.3.post1)\n",
      "Requirement already satisfied: six>=1.5 in /opt/conda/lib/python3.10/site-packages (from python-dateutil>=2.7.3->pandas->ensemble_boxes) (1.16.0)\n",
      "\u001b[33mWARNING: Running pip as the 'root' user can result in broken permissions and conflicting behaviour with the system package manager. It is recommended to use a virtual environment instead: https://pip.pypa.io/warnings/venv\u001b[0m\u001b[33m\n",
      "\u001b[0m"
     ]
    },
    {
     "data": {
      "text/plain": [
       "'\\nhttps://github.com/ZFTurbo/Weighted-Boxes-Fusion\\n'"
      ]
     },
     "execution_count": 9,
     "metadata": {},
     "output_type": "execute_result"
    }
   ],
   "source": [
    "# Weighted Boxes Fusion 적용\n",
    "\n",
    "!pip3 install ensemble_boxes\n",
    "'''\n",
    "https://github.com/ZFTurbo/Weighted-Boxes-Fusion\n",
    "'''"
   ]
  },
  {
   "cell_type": "code",
   "execution_count": 10,
   "id": "4ea20cca-286d-4f08-bc50-9ac87c713ca8",
   "metadata": {},
   "outputs": [],
   "source": [
    "import pandas as pd\n",
    "from ensemble_boxes import *\n",
    "import numpy as np\n",
    "from pycocotools.coco import COCO\n",
    "from tqdm import tqdm"
   ]
  },
  {
   "cell_type": "code",
   "execution_count": 11,
   "id": "2c35c17e-f80b-4076-966c-ff5b72ef13e7",
   "metadata": {},
   "outputs": [],
   "source": [
    "# ensemble csv files\n",
    "\n",
    "#========== submission.csv 파일 경로 지정 ===========#\n",
    "submission_files = ['results/cascade_resnext/submission.csv', \n",
    "                    'results/cascade_resnext_newdata/submission.csv',\n",
    "                    'results/swin_retina_100/submission.csv']\n",
    "#===================================================#\n",
    "\n",
    "submission_df = [pd.read_csv(file) for file in submission_files]"
   ]
  },
  {
   "cell_type": "code",
   "execution_count": 12,
   "id": "37b54a1e-5aa8-47d1-bfae-800ce98d55c5",
   "metadata": {},
   "outputs": [],
   "source": [
    "image_ids = submission_df[0]['image_id'].tolist()\n",
    "assert len(image_ids)==4871"
   ]
  },
  {
   "cell_type": "code",
   "execution_count": 13,
   "id": "714fdcf3-f608-4802-a7ed-adf409ae4eb9",
   "metadata": {},
   "outputs": [
    {
     "name": "stdout",
     "output_type": "stream",
     "text": [
      "loading annotations into memory...\n",
      "Done (t=0.01s)\n",
      "creating index...\n",
      "index created!\n"
     ]
    }
   ],
   "source": [
    "annotation = 'dataset/test.json' ### test.json 경로 넣기 ###\n",
    "coco = COCO(annotation)"
   ]
  },
  {
   "cell_type": "code",
   "execution_count": 14,
   "id": "741c427b-dd9e-465d-a770-0e6e167c331c",
   "metadata": {},
   "outputs": [
    {
     "name": "stderr",
     "output_type": "stream",
     "text": [
      "100%|██████████| 4871/4871 [00:45<00:00, 106.67it/s]\n"
     ]
    }
   ],
   "source": [
    "prediction_strings = []\n",
    "file_names = []\n",
    "\n",
    "for i, image_id in tqdm(enumerate(image_ids), total=len(image_ids)):\n",
    "    prediction_string = ''\n",
    "    boxes_list = []\n",
    "    scores_list = []\n",
    "    labels_list = []\n",
    "    image_info = coco.loadImgs(i)[0]\n",
    "    \n",
    "    for df in submission_df:\n",
    "        predict_string = df[df['image_id'] == image_id]['PredictionString'].tolist()[0]\n",
    "        predict_list = str(predict_string).split()\n",
    "        \n",
    "        # 바운딩 박스가 0개 혹은 1개인 경우 앙상블할 수 없으므로 패스합니다\n",
    "        if len(predict_list)==0 or len(predict_list)==1:\n",
    "            continue\n",
    "            \n",
    "        predict_list = np.reshape(predict_list, (-1, 6))\n",
    "        box_list = []\n",
    "        \n",
    "        # Ensemble_boxes는 박스의 좌표가 0에서 1 사이일 것을 요구하므로 정규화해줍니다\n",
    "        for box in predict_list[:, 2:6].tolist():\n",
    "            box[0] = float(box[0]) / image_info['width']\n",
    "            box[1] = float(box[1]) / image_info['height']\n",
    "            box[2] = float(box[2]) / image_info['width']\n",
    "            box[3] = float(box[3]) / image_info['height']\n",
    "            box_list.append(box)\n",
    "            \n",
    "        boxes_list.append(box_list)\n",
    "        scores_list.append(list(map(float, predict_list[:, 1].tolist())))\n",
    "        labels_list.append(list(map(int, predict_list[:, 0].tolist())))\n",
    "    \n",
    "    if len(boxes_list):\n",
    "        # Ensemble Boxes는 아래와 같은 메서드도 지원합니다! (기본 nms, soft-nms 등등)\n",
    "        \n",
    "        # boxes, scores, labels = nms(boxes_list, scores_list, labels_list,iou_thr=iou_thr)\n",
    "        # boxes, scores, labels = soft_nms(box_list, scores_list, labels_list, iou_thr=iou_thr)\n",
    "        # boxes, scores, labels = non_maximum_weighted(boxes_list, scores_list, labels_list,iou_thr=iou_thr)\n",
    "        boxes, scores, labels = weighted_boxes_fusion(boxes_list, scores_list, labels_list,iou_thr=0.55)\n",
    "\n",
    "        for box, score, label in zip(boxes, scores, labels):\n",
    "            prediction_string += str(int(label)) + ' ' + str(score) + ' ' + str(box[0] * image_info['width']) + ' ' + str(box[1] * image_info['height']) + ' ' + str(box[2] * image_info['width']) + ' ' + str(box[3] * image_info['height']) + ' '\n",
    "    \n",
    "    prediction_strings.append(prediction_string)\n",
    "    file_names.append(image_id)"
   ]
  },
  {
   "cell_type": "code",
   "execution_count": 15,
   "id": "3357e837-fea2-4fb2-994d-124d8087cbe4",
   "metadata": {},
   "outputs": [
    {
     "data": {
      "text/html": [
       "<div>\n",
       "<style scoped>\n",
       "    .dataframe tbody tr th:only-of-type {\n",
       "        vertical-align: middle;\n",
       "    }\n",
       "\n",
       "    .dataframe tbody tr th {\n",
       "        vertical-align: top;\n",
       "    }\n",
       "\n",
       "    .dataframe thead th {\n",
       "        text-align: right;\n",
       "    }\n",
       "</style>\n",
       "<table border=\"1\" class=\"dataframe\">\n",
       "  <thead>\n",
       "    <tr style=\"text-align: right;\">\n",
       "      <th></th>\n",
       "      <th>PredictionString</th>\n",
       "      <th>image_id</th>\n",
       "    </tr>\n",
       "  </thead>\n",
       "  <tbody>\n",
       "    <tr>\n",
       "      <th>0</th>\n",
       "      <td>7 0.6534777879714966 604.9644165039062 510.360...</td>\n",
       "      <td>test/0000.jpg</td>\n",
       "    </tr>\n",
       "    <tr>\n",
       "      <th>1</th>\n",
       "      <td>3 0.547940731048584 342.7675476074219 249.6631...</td>\n",
       "      <td>test/0001.jpg</td>\n",
       "    </tr>\n",
       "    <tr>\n",
       "      <th>2</th>\n",
       "      <td>1 0.6294417977333069 79.40958404541016 275.403...</td>\n",
       "      <td>test/0002.jpg</td>\n",
       "    </tr>\n",
       "    <tr>\n",
       "      <th>3</th>\n",
       "      <td>9 0.5086538791656494 130.72122192382812 220.60...</td>\n",
       "      <td>test/0003.jpg</td>\n",
       "    </tr>\n",
       "    <tr>\n",
       "      <th>4</th>\n",
       "      <td>1 0.5214035113652548 192.64695739746094 268.41...</td>\n",
       "      <td>test/0004.jpg</td>\n",
       "    </tr>\n",
       "  </tbody>\n",
       "</table>\n",
       "</div>"
      ],
      "text/plain": [
       "                                    PredictionString       image_id\n",
       "0  7 0.6534777879714966 604.9644165039062 510.360...  test/0000.jpg\n",
       "1  3 0.547940731048584 342.7675476074219 249.6631...  test/0001.jpg\n",
       "2  1 0.6294417977333069 79.40958404541016 275.403...  test/0002.jpg\n",
       "3  9 0.5086538791656494 130.72122192382812 220.60...  test/0003.jpg\n",
       "4  1 0.5214035113652548 192.64695739746094 268.41...  test/0004.jpg"
      ]
     },
     "execution_count": 15,
     "metadata": {},
     "output_type": "execute_result"
    }
   ],
   "source": [
    "submission = pd.DataFrame()\n",
    "submission['PredictionString'] = prediction_strings\n",
    "submission['image_id'] = file_names\n",
    "\n",
    "#======= 앙상블 결과 출력할 경로 지정 ========#\n",
    "submission.to_csv('results/ensemble/datasetensemble_cascaderesnext_swinretina.csv', index=False)\n",
    "#===========================================#\n",
    "\n",
    "submission.head()"
   ]
  }
 ],
 "metadata": {
  "kernelspec": {
   "display_name": "base",
   "language": "python",
   "name": "python3"
  },
  "language_info": {
   "codemirror_mode": {
    "name": "ipython",
    "version": 3
   },
   "file_extension": ".py",
   "mimetype": "text/x-python",
   "name": "python",
   "nbconvert_exporter": "python",
   "pygments_lexer": "ipython3",
   "version": "3.10.13"
  }
 },
 "nbformat": 4,
 "nbformat_minor": 5
}
