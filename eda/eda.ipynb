{
 "cells": [
  {
   "cell_type": "code",
   "execution_count": 2,
   "metadata": {},
   "outputs": [],
   "source": [
    "import os\n",
    "import json\n",
    "import random\n",
    "import numpy as np\n",
    "from PIL import Image\n",
    "import matplotlib.pyplot as plt\n",
    "import matplotlib.patches as patches"
   ]
  },
  {
   "cell_type": "markdown",
   "metadata": {},
   "source": [
    "## Dataset Preview"
   ]
  },
  {
   "cell_type": "markdown",
   "metadata": {},
   "source": [
    "### COCO Dataset"
   ]
  },
  {
   "cell_type": "code",
   "execution_count": 3,
   "metadata": {},
   "outputs": [],
   "source": [
    "coco_json = json.load(open('datasets/train.json'))\n",
    "images = coco_json['images']\n",
    "annotations = coco_json['annotations']\n",
    "categories = {k['id']:k['name'] for k in coco_json['categories']}\n",
    "COLOR_MAP = [\n",
    "    (171, 222, 230), (203, 170, 203), (255, 255, 181), (255, 204, 182), (243, 176, 195),\n",
    "    (151, 193, 169), (254, 225, 232), (198, 219, 218), (255, 150, 138), (85, 203, 205)\n",
    "]"
   ]
  },
  {
   "cell_type": "code",
   "execution_count": 4,
   "metadata": {},
   "outputs": [
    {
     "data": {
      "text/plain": [
       "dict_keys(['info', 'licenses', 'images', 'categories', 'annotations'])"
      ]
     },
     "execution_count": 4,
     "metadata": {},
     "output_type": "execute_result"
    }
   ],
   "source": [
    "coco_json.keys()"
   ]
  },
  {
   "cell_type": "code",
   "execution_count": 5,
   "metadata": {},
   "outputs": [
    {
     "name": "stdout",
     "output_type": "stream",
     "text": [
      "Example info: {'year': 2021, 'version': '1.0', 'description': 'Recycle Trash', 'contributor': 'Upstage', 'url': None, 'date_created': '2021-02-02 01:10:00'}\n",
      "Example licenses: [{'id': 0, 'name': 'CC BY 4.0', 'url': 'https://creativecommons.org/licenses/by/4.0/deed.ast'}]\n",
      "Example images: {'width': 1024, 'height': 1024, 'file_name': 'train/0000.jpg', 'license': 0, 'flickr_url': None, 'coco_url': None, 'date_captured': '2020-12-26 14:44:23', 'id': 0}\n",
      "Example categories: {'id': 0, 'name': 'General trash', 'supercategory': 'General trash'}\n",
      "Example annotations: {'image_id': 0, 'category_id': 0, 'area': 257301.66, 'bbox': [197.6, 193.7, 547.8, 469.7], 'iscrowd': 0, 'id': 0}\n"
     ]
    }
   ],
   "source": [
    "for k in coco_json.keys():\n",
    "    if k in [\"info\", \"licenses\"]:\n",
    "        print(f\"Example {k}: {coco_json[k]}\")\n",
    "    else:\n",
    "        print(f\"Example {k}: {coco_json[k][0]}\")"
   ]
  },
  {
   "cell_type": "code",
   "execution_count": 6,
   "metadata": {},
   "outputs": [
    {
     "name": "stdout",
     "output_type": "stream",
     "text": [
      "width: 1024\n",
      "height: 1024\n",
      "file_name: train/0000.jpg\n",
      "license: 0\n",
      "flickr_url: None\n",
      "coco_url: None\n",
      "date_captured: 2020-12-26 14:44:23\n",
      "id: 0\n"
     ]
    }
   ],
   "source": [
    "for image in coco_json['images']:\n",
    "    for k, v in image.items():\n",
    "        print(f\"{k}: {v}\")\n",
    "    break"
   ]
  },
  {
   "cell_type": "code",
   "execution_count": 7,
   "metadata": {},
   "outputs": [
    {
     "name": "stdout",
     "output_type": "stream",
     "text": [
      "image_id: 0\n",
      "category_id: 0\n",
      "area: 257301.66\n",
      "bbox: [197.6, 193.7, 547.8, 469.7]\n",
      "iscrowd: 0\n",
      "id: 0\n"
     ]
    }
   ],
   "source": [
    "for annot in coco_json[\"annotations\"]:\n",
    "    for k, v in annot.items():\n",
    "        print(f\"{k}: {v}\")\n",
    "    break"
   ]
  },
  {
   "cell_type": "markdown",
   "metadata": {},
   "source": [
    "## Dataset EDA"
   ]
  },
  {
   "cell_type": "markdown",
   "metadata": {},
   "source": [
    "### Number of Classes"
   ]
  },
  {
   "cell_type": "code",
   "execution_count": 89,
   "metadata": {},
   "outputs": [],
   "source": [
    "def vis_bar_plot(idx: np.ndarray, count: list, fig_w: int, fig_h: int, text_h: int, title: str):\n",
    "    fig, ax = plt.subplots(figsize=(fig_w, fig_h))\n",
    "    ax.bar(\n",
    "        idx, count, width=0.7, \n",
    "        ec='red', lw=2, color=\"tomato\"\n",
    "    )\n",
    "\n",
    "    for i, v in zip(idx, count):\n",
    "        ax.text(\n",
    "            i, v+text_h, str(v), ha='center', va='bottom',\n",
    "            fontweight='bold', fontsize=10\n",
    "        )\n",
    "\n",
    "    ax.set_title(title, fontsize=14)\n",
    "    plt.show()"
   ]
  },
  {
   "cell_type": "code",
   "execution_count": null,
   "metadata": {},
   "outputs": [],
   "source": [
    "idx = np.array([categories[i] for i in range(len(coco_json['categories']))],)\n",
    "count = [len([annot for annot in coco_json['annotations'] if annot['category_id'] == i]) for i in range(len(coco_json['categories']))]\n",
    "vis_bar_plot(idx, count, 12, 7, 50, \"Object Count per Category\")\n"
   ]
  },
  {
   "cell_type": "markdown",
   "metadata": {},
   "source": [
    "### Random Visualization"
   ]
  },
  {
   "cell_type": "code",
   "execution_count": 22,
   "metadata": {},
   "outputs": [],
   "source": [
    "def random_vis(root_dir: str, rows: int, cols: int):\n",
    "    idxs = random.sample(list(range(len(images))), rows*cols)\n",
    "    fig, axes = plt.subplots(rows, cols, figsize=(20, 20))\n",
    "\n",
    "    for i, idx in enumerate(idxs):\n",
    "        r, c = i//cols, i%cols\n",
    "        img_path = os.path.join(root_dir, images[idx]['file_name'])\n",
    "        img = Image.open(img_path).convert(\"RGB\")\n",
    "        candits = [k for k in annotations if k['image_id'] == images[idx]['id']]\n",
    "        for candit in candits:\n",
    "            bbox = candit['bbox']\n",
    "            bbox = [int(k) for k in bbox]\n",
    "            cat_id = candit['category_id']\n",
    "            cat_name = categories[cat_id]\n",
    "            color = [num/255 for num in COLOR_MAP[cat_id%10]]\n",
    "            bbox_rect = patches.Rectangle(\n",
    "                (bbox[0], bbox[1]), \n",
    "                bbox[2], bbox[3],       \n",
    "                linewidth=3,        \n",
    "                edgecolor=color,        \n",
    "                facecolor='none'        \n",
    "            )\n",
    "            axes[r][c].add_patch(bbox_rect)\n",
    "            axes[r][c].annotate(\n",
    "                cat_name, \n",
    "                (bbox[0]+3, bbox[1]-10), \n",
    "                color='black', \n",
    "                weight='bold', \n",
    "                fontsize=10,\n",
    "                backgroundcolor=color\n",
    "            )\n",
    "            \n",
    "        axes[r][c].imshow(img)\n",
    "        axes[r][c].axis('off')\n",
    "        axes[r][c].set_title(img_path.split('/')[-1], fontsize=20)\n",
    "    \n",
    "    plt.tight_layout()\n",
    "    plt.show()"
   ]
  },
  {
   "cell_type": "code",
   "execution_count": null,
   "metadata": {},
   "outputs": [],
   "source": [
    "random_vis(\"datasets\", 2, 2)"
   ]
  },
  {
   "cell_type": "code",
   "execution_count": 34,
   "metadata": {},
   "outputs": [],
   "source": [
    "def random_vis_with_raw_image(root_dir: str, idx: int):\n",
    "    fig, axes = plt.subplots(1, 2, figsize=(12, 7))\n",
    "    img_path = os.path.join(root_dir, images[idx]['file_name'])\n",
    "    img = Image.open(img_path).convert(\"RGB\")\n",
    "    axes[0].imshow(img)\n",
    "    axes[0].axis('off')\n",
    "    \n",
    "    candits = [k for k in annotations if k['image_id'] == images[idx]['id']]\n",
    "    for candit in candits:\n",
    "        bbox = candit['bbox']\n",
    "        bbox = [int(k) for k in bbox]\n",
    "        cat_id = candit['category_id']\n",
    "        cat_name = categories[cat_id]\n",
    "        color = [num/255 for num in COLOR_MAP[cat_id%10]]\n",
    "        bbox_rect = patches.Rectangle(\n",
    "            (bbox[0], bbox[1]), \n",
    "            bbox[2], bbox[3],       \n",
    "            linewidth=3,        \n",
    "            edgecolor=color,        \n",
    "            facecolor='none'        \n",
    "        )\n",
    "        axes[0].add_patch(bbox_rect)\n",
    "        axes[0].annotate(\n",
    "            cat_name, \n",
    "            (bbox[0]+3, bbox[1]-10), \n",
    "            color='black', \n",
    "            weight='bold', \n",
    "            fontsize=10,\n",
    "            backgroundcolor=color\n",
    "        )\n",
    "    axes[1].imshow(img)\n",
    "    axes[1].axis('off') \n",
    "   \n",
    "    plt.tight_layout()\n",
    "    plt.show()       "
   ]
  },
  {
   "cell_type": "code",
   "execution_count": null,
   "metadata": {},
   "outputs": [],
   "source": [
    "random_vis_with_raw_image(\"datasets\", 3654)"
   ]
  },
  {
   "cell_type": "code",
   "execution_count": null,
   "metadata": {},
   "outputs": [],
   "source": [
    "random_vis_with_raw_image(\"datasets\", 4197)"
   ]
  },
  {
   "cell_type": "code",
   "execution_count": null,
   "metadata": {},
   "outputs": [],
   "source": [
    "random_vis_with_raw_image(\"datasets\", 2932)"
   ]
  },
  {
   "cell_type": "code",
   "execution_count": null,
   "metadata": {},
   "outputs": [],
   "source": [
    "random_vis_with_raw_image(\"datasets\", 4742)"
   ]
  },
  {
   "cell_type": "code",
   "execution_count": null,
   "metadata": {},
   "outputs": [],
   "source": [
    "random_vis_with_raw_image(\"datasets\", 3102)"
   ]
  },
  {
   "cell_type": "code",
   "execution_count": null,
   "metadata": {},
   "outputs": [],
   "source": [
    "random_vis_with_raw_image(\"datasets\", 1071)"
   ]
  },
  {
   "cell_type": "markdown",
   "metadata": {},
   "source": [
    "### Number of Boxes per image "
   ]
  },
  {
   "cell_type": "code",
   "execution_count": 74,
   "metadata": {},
   "outputs": [],
   "source": [
    "from collections import defaultdict, Counter"
   ]
  },
  {
   "cell_type": "code",
   "execution_count": 93,
   "metadata": {},
   "outputs": [],
   "source": [
    "num_of_bbox_per_image = defaultdict(int)\n",
    "unique_class_per_image = defaultdict(int)\n",
    "for image in images:\n",
    "    candits = [k for k in annotations if k['image_id'] == image['id']]\n",
    "    num_of_bbox_per_image[len(candits)] += 1\n",
    "    unique_class = len(set([k['category_id'] for k in candits]))\n",
    "    unique_class_per_image[unique_class] += 1\n",
    "        \n",
    "num_of_bbox_per_image = sorted(num_of_bbox_per_image.items(), key=lambda x: x[0])\n",
    "unique_class_per_image = sorted(unique_class_per_image.items(), key=lambda x: x[0])"
   ]
  },
  {
   "cell_type": "code",
   "execution_count": null,
   "metadata": {},
   "outputs": [],
   "source": [
    "idx = np.array([k[0] for k in num_of_bbox_per_image])\n",
    "count = np.array([k[1] for k in num_of_bbox_per_image])\n",
    "vis_bar_plot(idx, count, 22, 7, 20, \"Number of Bounding Boxes per Image\")"
   ]
  },
  {
   "cell_type": "code",
   "execution_count": null,
   "metadata": {},
   "outputs": [],
   "source": [
    "idx = np.array([k[0] for k in unique_class_per_image])\n",
    "count = np.array([k[1] for k in unique_class_per_image])\n",
    "vis_bar_plot(idx, count, 10, 7, 20, \"Number of Unique Classes per Image\")"
   ]
  },
  {
   "cell_type": "markdown",
   "metadata": {},
   "source": [
    "### Distribution of Bounding box area\n",
    "\n",
    "object별 area가 다르기 때문에 구간별 clipping을 통해 시각화 진행\n",
    "- Train image의 크기가 1024 * 1024인 점을 고려했을 때, Size가 너무 작은 object는 오히려 학습을 방해할 것이라 생각.\n",
    "\n",
    "구간을 어떻게 나눌까?\n",
    "- bar chart보다 histogram이 좋을 것이라 생각함."
   ]
  },
  {
   "cell_type": "code",
   "execution_count": 98,
   "metadata": {},
   "outputs": [],
   "source": [
    "bbox_area = [k['area'] for k in annotations]"
   ]
  },
  {
   "cell_type": "code",
   "execution_count": 119,
   "metadata": {},
   "outputs": [
    {
     "name": "stdout",
     "output_type": "stream",
     "text": [
      "Length of list: 23144\n",
      "Max area: 1048371.21\n",
      "Min area: 0.56\n",
      "\n",
      "Count of under than 1000: 297\n",
      "Count of under than 2000: 1374\n",
      "Count of under than 3000: 2208\n",
      "\n",
      "Count of over than 300000: 1703\n",
      "Count of over than 400000: 918\n",
      "Count of over than 500000: 508\n"
     ]
    }
   ],
   "source": [
    "print(f\"Length of list: {len(bbox_area)}\")\n",
    "print(f\"Max area: {max(bbox_area)}\")\n",
    "print(f\"Min area: {min(bbox_area)}\\n\")\n",
    "\n",
    "print(f\"Count of under than 1000: {len(list(filter(lambda x: x<1000, bbox_area)))}\")\n",
    "print(f\"Count of under than 2000: {len(list(filter(lambda x: x<2000, bbox_area)))}\")\n",
    "print(f\"Count of under than 3000: {len(list(filter(lambda x: x<3000, bbox_area)))}\\n\") \n",
    "\n",
    "print(f\"Count of over than 300000: {len(list(filter(lambda x: x>300000, bbox_area)))}\")\n",
    "print(f\"Count of over than 400000: {len(list(filter(lambda x: x>400000, bbox_area)))}\")\n",
    "print(f\"Count of over than 500000: {len(list(filter(lambda x: x>500000, bbox_area)))}\") "
   ]
  },
  {
   "cell_type": "markdown",
   "metadata": {},
   "source": [
    "Area가 2000 (45 x 45) 보다 적고, 400000 (600 x 600)만보다 큰 object는 날려도 되지 않을까?"
   ]
  },
  {
   "cell_type": "code",
   "execution_count": null,
   "metadata": {},
   "outputs": [],
   "source": [
    "fig, ax = plt.subplots(1, 1, figsize=(20, 7))\n",
    "ax.hist(bbox_area, bins=500, color=\"tomato\")\n",
    "ax.set_title(\"Area Distribution\", fontsize=14)\n",
    "plt.show()"
   ]
  }
 ],
 "metadata": {
  "kernelspec": {
   "display_name": "base",
   "language": "python",
   "name": "python3"
  },
  "language_info": {
   "codemirror_mode": {
    "name": "ipython",
    "version": 3
   },
   "file_extension": ".py",
   "mimetype": "text/x-python",
   "name": "python",
   "nbconvert_exporter": "python",
   "pygments_lexer": "ipython3",
   "version": "3.10.13"
  }
 },
 "nbformat": 4,
 "nbformat_minor": 2
}
